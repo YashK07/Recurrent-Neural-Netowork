{
  "nbformat": 4,
  "nbformat_minor": 0,
  "metadata": {
    "colab": {
      "name": "Autoregressive Linear Model for Time Series Prediction .ipynb",
      "provenance": [],
      "collapsed_sections": [],
      "authorship_tag": "ABX9TyNBOfMX9FocdYAPTHvEpPZR",
      "include_colab_link": true
    },
    "kernelspec": {
      "name": "python3",
      "display_name": "Python 3"
    }
  },
  "cells": [
    {
      "cell_type": "markdown",
      "metadata": {
        "id": "view-in-github",
        "colab_type": "text"
      },
      "source": [
        "<a href=\"https://colab.research.google.com/github/YashK07/Recurrent-Neural-Netowork/blob/master/Autoregressive_Linear_Model_for_Time_Series_Prediction_.ipynb\" target=\"_parent\"><img src=\"https://colab.research.google.com/assets/colab-badge.svg\" alt=\"Open In Colab\"/></a>"
      ]
    },
    {
      "cell_type": "code",
      "metadata": {
        "id": "oUegkJ-nvFc-",
        "colab_type": "code",
        "colab": {}
      },
      "source": [
        "from tensorflow.keras.layers import Input,Dense\n",
        "from tensorflow.keras.models import Model\n",
        "from tensorflow.keras.optimizers import SGD,Adam\n",
        "import numpy as np\n",
        "import pandas as pd\n",
        "import matplotlib.pyplot as plt"
      ],
      "execution_count": null,
      "outputs": []
    },
    {
      "cell_type": "markdown",
      "metadata": {
        "id": "H7BCJfncwlYR",
        "colab_type": "text"
      },
      "source": [
        "Lets plot a signn wave series."
      ]
    },
    {
      "cell_type": "code",
      "metadata": {
        "id": "UGqNyFWrweLw",
        "colab_type": "code",
        "colab": {}
      },
      "source": [
        "series = np.sin(0.1 * np.arange(200))"
      ],
      "execution_count": null,
      "outputs": []
    },
    {
      "cell_type": "code",
      "metadata": {
        "id": "fNNV-l1ExgtN",
        "colab_type": "code",
        "colab": {
          "base_uri": "https://localhost:8080/",
          "height": 711
        },
        "outputId": "7693feac-ae35-44d8-c643-7537ee5b3884"
      },
      "source": [
        "series"
      ],
      "execution_count": null,
      "outputs": [
        {
          "output_type": "execute_result",
          "data": {
            "text/plain": [
              "array([ 0.        ,  0.09983342,  0.19866933,  0.29552021,  0.38941834,\n",
              "        0.47942554,  0.56464247,  0.64421769,  0.71735609,  0.78332691,\n",
              "        0.84147098,  0.89120736,  0.93203909,  0.96355819,  0.98544973,\n",
              "        0.99749499,  0.9995736 ,  0.99166481,  0.97384763,  0.94630009,\n",
              "        0.90929743,  0.86320937,  0.8084964 ,  0.74570521,  0.67546318,\n",
              "        0.59847214,  0.51550137,  0.42737988,  0.33498815,  0.23924933,\n",
              "        0.14112001,  0.04158066, -0.05837414, -0.15774569, -0.2555411 ,\n",
              "       -0.35078323, -0.44252044, -0.52983614, -0.61185789, -0.68776616,\n",
              "       -0.7568025 , -0.81827711, -0.87157577, -0.91616594, -0.95160207,\n",
              "       -0.97753012, -0.993691  , -0.99992326, -0.99616461, -0.98245261,\n",
              "       -0.95892427, -0.92581468, -0.88345466, -0.83226744, -0.77276449,\n",
              "       -0.70554033, -0.63126664, -0.55068554, -0.46460218, -0.37387666,\n",
              "       -0.2794155 , -0.1821625 , -0.0830894 ,  0.0168139 ,  0.1165492 ,\n",
              "        0.21511999,  0.31154136,  0.40484992,  0.49411335,  0.57843976,\n",
              "        0.6569866 ,  0.72896904,  0.79366786,  0.85043662,  0.8987081 ,\n",
              "        0.93799998,  0.96791967,  0.98816823,  0.99854335,  0.99894134,\n",
              "        0.98935825,  0.96988981,  0.94073056,  0.90217183,  0.85459891,\n",
              "        0.79848711,  0.7343971 ,  0.66296923,  0.58491719,  0.50102086,\n",
              "        0.41211849,  0.31909836,  0.22288991,  0.12445442,  0.02477543,\n",
              "       -0.07515112, -0.17432678, -0.27176063, -0.36647913, -0.45753589,\n",
              "       -0.54402111, -0.62507065, -0.69987469, -0.76768581, -0.82782647,\n",
              "       -0.87969576, -0.92277542, -0.95663502, -0.98093623, -0.99543625,\n",
              "       -0.99999021, -0.99455259, -0.97917773, -0.95401925, -0.91932853,\n",
              "       -0.87545217, -0.82282859, -0.76198358, -0.69352508, -0.61813711,\n",
              "       -0.53657292, -0.44964746, -0.35822928, -0.26323179, -0.16560418,\n",
              "       -0.0663219 ,  0.03362305,  0.13323204,  0.23150983,  0.32747444,\n",
              "        0.42016704,  0.50866146,  0.59207351,  0.66956976,  0.74037589,\n",
              "        0.80378443,  0.85916181,  0.90595474,  0.94369567,  0.9720075 ,\n",
              "        0.99060736,  0.99930939,  0.99802665,  0.98677196,  0.96565778,\n",
              "        0.93489506,  0.89479117,  0.84574683,  0.78825207,  0.72288135,\n",
              "        0.65028784,  0.57119687,  0.48639869,  0.39674057,  0.30311836,\n",
              "        0.20646748,  0.10775365,  0.00796318, -0.09190685, -0.19085858,\n",
              "       -0.28790332, -0.38207142, -0.47242199, -0.55805227, -0.63810668,\n",
              "       -0.71178534, -0.77835208, -0.83714178, -0.88756703, -0.92912401,\n",
              "       -0.96139749, -0.98406501, -0.99690007, -0.99977443, -0.99265938,\n",
              "       -0.97562601, -0.9488445 , -0.91258245, -0.86720218, -0.81315711,\n",
              "       -0.75098725, -0.68131377, -0.60483282, -0.52230859, -0.43456562,\n",
              "       -0.34248062, -0.24697366, -0.14899903, -0.04953564,  0.05042269,\n",
              "        0.14987721,  0.24783421,  0.34331493,  0.43536536,  0.52306577,\n",
              "        0.60553987,  0.68196362,  0.75157342,  0.81367374,  0.8676441 ])"
            ]
          },
          "metadata": {
            "tags": []
          },
          "execution_count": 34
        }
      ]
    },
    {
      "cell_type": "code",
      "metadata": {
        "id": "0p0jPZmQxhh0",
        "colab_type": "code",
        "colab": {
          "base_uri": "https://localhost:8080/",
          "height": 265
        },
        "outputId": "5f79d7e5-995b-4e09-c13e-7f625bc82680"
      },
      "source": [
        "plt.plot(series);"
      ],
      "execution_count": null,
      "outputs": [
        {
          "output_type": "display_data",
          "data": {
            "image/png": "[encoded data removed]",
            "text/plain": [
              "<Figure size 432x288 with 1 Axes>"
            ]
          },
          "metadata": {
            "tags": [],
            "needs_background": "light"
          }
        }
      ]
    },
    {
      "cell_type": "code",
      "metadata": {
        "id": "1pwGzWeQxmli",
        "colab_type": "code",
        "colab": {}
      },
      "source": [
        "T  = 10\n",
        "X = []\n",
        "Y = []\n",
        "for t in range(len(series) - T):\n",
        "  x = series[t:t+T]\n",
        "  X.append(x)\n",
        "  y = series[t+T]\n",
        "  Y.append(y)\n",
        "  #now we cast X and Y to numpy array\n",
        "X = np.array(X)  "
      ],
      "execution_count": null,
      "outputs": []
    },
    {
      "cell_type": "code",
      "metadata": {
        "id": "-dvKH-Fe0A8g",
        "colab_type": "code",
        "colab": {
          "base_uri": "https://localhost:8080/",
          "height": 35
        },
        "outputId": "9c19a710-3fe3-4f54-a8b3-2a63769a6683"
      },
      "source": [
        "X.shape"
      ],
      "execution_count": null,
      "outputs": [
        {
          "output_type": "execute_result",
          "data": {
            "text/plain": [
              "(190, 10)"
            ]
          },
          "metadata": {
            "tags": []
          },
          "execution_count": 37
        }
      ]
    },
    {
      "cell_type": "code",
      "metadata": {
        "id": "sxLvek5f0P78",
        "colab_type": "code",
        "colab": {}
      },
      "source": [
        "X = X.reshape(-1,T)"
      ],
      "execution_count": null,
      "outputs": []
    },
    {
      "cell_type": "code",
      "metadata": {
        "id": "a2uHK0Hw0n-p",
        "colab_type": "code",
        "colab": {}
      },
      "source": [
        "Y = np.array(Y)"
      ],
      "execution_count": null,
      "outputs": []
    },
    {
      "cell_type": "code",
      "metadata": {
        "id": "Hbbanp4004vp",
        "colab_type": "code",
        "colab": {
          "base_uri": "https://localhost:8080/",
          "height": 35
        },
        "outputId": "505d263c-b2a1-43f6-ed7f-a1794f2c3db8"
      },
      "source": [
        "Y.shape"
      ],
      "execution_count": null,
      "outputs": [
        {
          "output_type": "execute_result",
          "data": {
            "text/plain": [
              "(190,)"
            ]
          },
          "metadata": {
            "tags": []
          },
          "execution_count": 40
        }
      ]
    },
    {
      "cell_type": "code",
      "metadata": {
        "id": "nuQy_IYmR61I",
        "colab_type": "code",
        "colab": {}
      },
      "source": [
        "N = len(X)"
      ],
      "execution_count": null,
      "outputs": []
    },
    {
      "cell_type": "code",
      "metadata": {
        "id": "kTowp4MaSAkX",
        "colab_type": "code",
        "colab": {
          "base_uri": "https://localhost:8080/",
          "height": 35
        },
        "outputId": "68152162-8b8a-4b60-85d2-410dd7c366e7"
      },
      "source": [
        "N"
      ],
      "execution_count": null,
      "outputs": [
        {
          "output_type": "execute_result",
          "data": {
            "text/plain": [
              "190"
            ]
          },
          "metadata": {
            "tags": []
          },
          "execution_count": 42
        }
      ]
    },
    {
      "cell_type": "markdown",
      "metadata": {
        "id": "gUPQnHk911Pe",
        "colab_type": "text"
      },
      "source": [
        "Auto Regressive Model"
      ]
    },
    {
      "cell_type": "code",
      "metadata": {
        "id": "1jg_DQ_906pD",
        "colab_type": "code",
        "colab": {
          "base_uri": "https://localhost:8080/",
          "height": 1000
        },
        "outputId": "bcfd1536-d908-4dd7-ecf4-fa0627af68bd"
      },
      "source": [
        "i = Input(shape=(T,))\n",
        "x = Dense(1)(i)\n",
        "model = Model(i,x)\n",
        "model.compile(\n",
        "    loss=  'mse',\n",
        "    optimizer = Adam(lr = 0.1),\n",
        ")\n",
        "#train the rnn\n",
        "r = model.fit(\n",
        "    X[:-N//2],Y[:-N//2],#first half\n",
        "    epochs = 80,\n",
        "    validation_data = (X[-N//2:],Y[-N//2:]), #second half\n",
        ")\n",
        "#model.fit(training data,epocs,validation data)"
      ],
      "execution_count": null,
      "outputs": [
        {
          "output_type": "stream",
          "text": [
            "Epoch 1/80\n",
            "3/3 [==============================] - 0s 29ms/step - loss: 4.5428 - val_loss: 0.9121\n",
            "Epoch 2/80\n",
            "3/3 [==============================] - 0s 6ms/step - loss: 0.6492 - val_loss: 0.7153\n",
            "Epoch 3/80\n",
            "3/3 [==============================] - 0s 6ms/step - loss: 1.3028 - val_loss: 1.2662\n",
            "Epoch 4/80\n",
            "3/3 [==============================] - 0s 6ms/step - loss: 1.1780 - val_loss: 0.6155\n",
            "Epoch 5/80\n",
            "3/3 [==============================] - 0s 6ms/step - loss: 0.3554 - val_loss: 0.1766\n",
            "Epoch 6/80\n",
            "3/3 [==============================] - 0s 6ms/step - loss: 0.2476 - val_loss: 0.3182\n",
            "Epoch 7/80\n",
            "3/3 [==============================] - 0s 7ms/step - loss: 0.4581 - val_loss: 0.2711\n",
            "Epoch 8/80\n",
            "3/3 [==============================] - 0s 8ms/step - loss: 0.2782 - val_loss: 0.0694\n",
            "Epoch 9/80\n",
            "3/3 [==============================] - 0s 7ms/step - loss: 0.0543 - val_loss: 0.0623\n",
            "Epoch 10/80\n",
            "3/3 [==============================] - 0s 6ms/step - loss: 0.0858 - val_loss: 0.1249\n",
            "Epoch 11/80\n",
            "3/3 [==============================] - 0s 6ms/step - loss: 0.1265 - val_loss: 0.0527\n",
            "Epoch 12/80\n",
            "3/3 [==============================] - 0s 6ms/step - loss: 0.0409 - val_loss: 0.0065\n",
            "Epoch 13/80\n",
            "3/3 [==============================] - 0s 6ms/step - loss: 0.0146 - val_loss: 0.0548\n",
            "Epoch 14/80\n",
            "3/3 [==============================] - 0s 6ms/step - loss: 0.0502 - val_loss: 0.0556\n",
            "Epoch 15/80\n",
            "3/3 [==============================] - 0s 6ms/step - loss: 0.0320 - val_loss: 0.0101\n",
            "Epoch 16/80\n",
            "3/3 [==============================] - 0s 6ms/step - loss: 0.0050 - val_loss: 0.0104\n",
            "Epoch 17/80\n",
            "3/3 [==============================] - 0s 6ms/step - loss: 0.0179 - val_loss: 0.0190\n",
            "Epoch 18/80\n",
            "3/3 [==============================] - 0s 6ms/step - loss: 0.0160 - val_loss: 0.0053\n",
            "Epoch 19/80\n",
            "3/3 [==============================] - 0s 7ms/step - loss: 0.0030 - val_loss: 0.0028\n",
            "Epoch 20/80\n",
            "3/3 [==============================] - 0s 7ms/step - loss: 0.0067 - val_loss: 0.0057\n",
            "Epoch 21/80\n",
            "3/3 [==============================] - 0s 8ms/step - loss: 0.0067 - val_loss: 0.0012\n",
            "Epoch 22/80\n",
            "3/3 [==============================] - 0s 6ms/step - loss: 8.6732e-04 - val_loss: 9.4177e-04\n",
            "Epoch 23/80\n",
            "3/3 [==============================] - 0s 7ms/step - loss: 0.0020 - val_loss: 0.0021\n",
            "Epoch 24/80\n",
            "3/3 [==============================] - 0s 6ms/step - loss: 0.0022 - val_loss: 3.0589e-04\n",
            "Epoch 25/80\n",
            "3/3 [==============================] - 0s 7ms/step - loss: 3.5576e-04 - val_loss: 8.9085e-04\n",
            "Epoch 26/80\n",
            "3/3 [==============================] - 0s 6ms/step - loss: 0.0010 - val_loss: 0.0012\n",
            "Epoch 27/80\n",
            "3/3 [==============================] - 0s 7ms/step - loss: 8.0287e-04 - val_loss: 1.3883e-04\n",
            "Epoch 28/80\n",
            "3/3 [==============================] - 0s 7ms/step - loss: 1.5872e-04 - val_loss: 4.5168e-04\n",
            "Epoch 29/80\n",
            "3/3 [==============================] - 0s 7ms/step - loss: 5.6845e-04 - val_loss: 5.8691e-04\n",
            "Epoch 30/80\n",
            "3/3 [==============================] - 0s 7ms/step - loss: 3.0254e-04 - val_loss: 1.0852e-04\n",
            "Epoch 31/80\n",
            "3/3 [==============================] - 0s 7ms/step - loss: 1.2499e-04 - val_loss: 1.8471e-04\n",
            "Epoch 32/80\n",
            "3/3 [==============================] - 0s 7ms/step - loss: 2.3458e-04 - val_loss: 8.6637e-05\n",
            "Epoch 33/80\n",
            "3/3 [==============================] - 0s 6ms/step - loss: 4.6500e-05 - val_loss: 1.4550e-05\n",
            "Epoch 34/80\n",
            "3/3 [==============================] - 0s 6ms/step - loss: 6.6043e-05 - val_loss: 7.1386e-05\n",
            "Epoch 35/80\n",
            "3/3 [==============================] - 0s 7ms/step - loss: 7.9239e-05 - val_loss: 1.0778e-05\n",
            "Epoch 36/80\n",
            "3/3 [==============================] - 0s 6ms/step - loss: 1.2018e-05 - val_loss: 4.5471e-05\n",
            "Epoch 37/80\n",
            "3/3 [==============================] - 0s 7ms/step - loss: 4.6865e-05 - val_loss: 3.7755e-05\n",
            "Epoch 38/80\n",
            "3/3 [==============================] - 0s 7ms/step - loss: 2.1827e-05 - val_loss: 4.5570e-06\n",
            "Epoch 39/80\n",
            "3/3 [==============================] - 0s 7ms/step - loss: 1.4396e-05 - val_loss: 2.8240e-05\n",
            "Epoch 40/80\n",
            "3/3 [==============================] - 0s 6ms/step - loss: 2.2168e-05 - val_loss: 6.9608e-06\n",
            "Epoch 41/80\n",
            "3/3 [==============================] - 0s 7ms/step - loss: 3.6731e-06 - val_loss: 6.3082e-06\n",
            "Epoch 42/80\n",
            "3/3 [==============================] - 0s 7ms/step - loss: 1.1272e-05 - val_loss: 7.7086e-06\n",
            "Epoch 43/80\n",
            "3/3 [==============================] - 0s 6ms/step - loss: 4.8682e-06 - val_loss: 3.1102e-07\n",
            "Epoch 44/80\n",
            "3/3 [==============================] - 0s 7ms/step - loss: 2.4667e-06 - val_loss: 3.8810e-06\n",
            "Epoch 45/80\n",
            "3/3 [==============================] - 0s 6ms/step - loss: 4.4366e-06 - val_loss: 5.3638e-07\n",
            "Epoch 46/80\n",
            "3/3 [==============================] - 0s 10ms/step - loss: 7.8715e-07 - val_loss: 1.9250e-06\n",
            "Epoch 47/80\n",
            "3/3 [==============================] - 0s 7ms/step - loss: 2.2890e-06 - val_loss: 1.3215e-06\n",
            "Epoch 48/80\n",
            "3/3 [==============================] - 0s 7ms/step - loss: 8.3946e-07 - val_loss: 5.8075e-07\n",
            "Epoch 49/80\n",
            "3/3 [==============================] - 0s 6ms/step - loss: 9.3373e-07 - val_loss: 1.7099e-06\n",
            "Epoch 50/80\n",
            "3/3 [==============================] - 0s 6ms/step - loss: 9.6631e-07 - val_loss: 2.0954e-07\n",
            "Epoch 51/80\n",
            "3/3 [==============================] - 0s 6ms/step - loss: 2.4087e-07 - val_loss: 4.7793e-07\n",
            "Epoch 52/80\n",
            "3/3 [==============================] - 0s 6ms/step - loss: 5.1073e-07 - val_loss: 1.6741e-07\n",
            "Epoch 53/80\n",
            "3/3 [==============================] - 0s 7ms/step - loss: 9.7783e-08 - val_loss: 1.1422e-07\n",
            "Epoch 54/80\n",
            "3/3 [==============================] - 0s 6ms/step - loss: 2.5439e-07 - val_loss: 1.2222e-07\n",
            "Epoch 55/80\n",
            "3/3 [==============================] - 0s 7ms/step - loss: 8.8904e-08 - val_loss: 3.6912e-08\n",
            "Epoch 56/80\n",
            "3/3 [==============================] - 0s 6ms/step - loss: 9.9465e-08 - val_loss: 1.0937e-07\n",
            "Epoch 57/80\n",
            "3/3 [==============================] - 0s 7ms/step - loss: 9.1553e-08 - val_loss: 1.3032e-08\n",
            "Epoch 58/80\n",
            "3/3 [==============================] - 0s 6ms/step - loss: 4.0468e-08 - val_loss: 8.2178e-08\n",
            "Epoch 59/80\n",
            "3/3 [==============================] - 0s 6ms/step - loss: 6.4361e-08 - val_loss: 9.5470e-09\n",
            "Epoch 60/80\n",
            "3/3 [==============================] - 0s 6ms/step - loss: 1.2206e-08 - val_loss: 3.8003e-08\n",
            "Epoch 61/80\n",
            "3/3 [==============================] - 0s 7ms/step - loss: 3.3784e-08 - val_loss: 1.5004e-08\n",
            "Epoch 62/80\n",
            "3/3 [==============================] - 0s 6ms/step - loss: 6.0099e-09 - val_loss: 6.1800e-09\n",
            "Epoch 63/80\n",
            "3/3 [==============================] - 0s 8ms/step - loss: 1.3731e-08 - val_loss: 9.1014e-09\n",
            "Epoch 64/80\n",
            "3/3 [==============================] - 0s 6ms/step - loss: 4.6926e-09 - val_loss: 2.4772e-09\n",
            "Epoch 65/80\n",
            "3/3 [==============================] - 0s 6ms/step - loss: 6.1141e-09 - val_loss: 5.8891e-09\n",
            "Epoch 66/80\n",
            "3/3 [==============================] - 0s 6ms/step - loss: 5.0457e-09 - val_loss: 1.3043e-09\n",
            "Epoch 67/80\n",
            "3/3 [==============================] - 0s 6ms/step - loss: 2.6296e-09 - val_loss: 3.7721e-09\n",
            "Epoch 68/80\n",
            "3/3 [==============================] - 0s 6ms/step - loss: 2.8844e-09 - val_loss: 2.3325e-10\n",
            "Epoch 69/80\n",
            "3/3 [==============================] - 0s 7ms/step - loss: 9.0444e-10 - val_loss: 2.0085e-09\n",
            "Epoch 70/80\n",
            "3/3 [==============================] - 0s 7ms/step - loss: 1.3796e-09 - val_loss: 1.1015e-10\n",
            "Epoch 71/80\n",
            "3/3 [==============================] - 0s 6ms/step - loss: 2.4696e-10 - val_loss: 7.5322e-10\n",
            "Epoch 72/80\n",
            "3/3 [==============================] - 0s 6ms/step - loss: 7.2076e-10 - val_loss: 1.9775e-10\n",
            "Epoch 73/80\n",
            "3/3 [==============================] - 0s 7ms/step - loss: 1.7331e-10 - val_loss: 3.2603e-10\n",
            "Epoch 74/80\n",
            "3/3 [==============================] - 0s 6ms/step - loss: 4.4201e-10 - val_loss: 1.4545e-10\n",
            "Epoch 75/80\n",
            "3/3 [==============================] - 0s 7ms/step - loss: 9.7395e-11 - val_loss: 1.6551e-10\n",
            "Epoch 76/80\n",
            "3/3 [==============================] - 0s 6ms/step - loss: 2.4263e-10 - val_loss: 1.0439e-10\n",
            "Epoch 77/80\n",
            "3/3 [==============================] - 0s 6ms/step - loss: 6.3027e-11 - val_loss: 8.4410e-11\n",
            "Epoch 78/80\n",
            "3/3 [==============================] - 0s 7ms/step - loss: 1.1510e-10 - val_loss: 7.5364e-11\n",
            "Epoch 79/80\n",
            "3/3 [==============================] - 0s 6ms/step - loss: 3.4278e-11 - val_loss: 3.1650e-11\n",
            "Epoch 80/80\n",
            "3/3 [==============================] - 0s 6ms/step - loss: 5.5883e-11 - val_loss: 6.7862e-11\n"
          ],
          "name": "stdout"
        }
      ]
    },
    {
      "cell_type": "code",
      "metadata": {
        "id": "SbaYv5AXNV7Y",
        "colab_type": "code",
        "colab": {
          "base_uri": "https://localhost:8080/",
          "height": 35
        },
        "outputId": "3719a9ac-6fee-4789-d81a-5208b93fffde"
      },
      "source": [
        "r.history.keys()"
      ],
      "execution_count": null,
      "outputs": [
        {
          "output_type": "execute_result",
          "data": {
            "text/plain": [
              "dict_keys(['loss', 'val_loss'])"
            ]
          },
          "metadata": {
            "tags": []
          },
          "execution_count": 44
        }
      ]
    },
    {
      "cell_type": "code",
      "metadata": {
        "id": "Ll0wmQS5SMkA",
        "colab_type": "code",
        "colab": {
          "base_uri": "https://localhost:8080/",
          "height": 279
        },
        "outputId": "e5508a79-905f-4e0f-877d-13ad1229f137"
      },
      "source": [
        "plt.plot(r.history['loss'],label='Training Loss')\n",
        "plt.plot(r.history['val_loss'],label = 'Validation Loss')\n",
        "plt.xlabel('Number of Epochs')\n",
        "plt.ylabel('Loss')\n",
        "plt.legend();"
      ],
      "execution_count": null,
      "outputs": [
        {
          "output_type": "display_data",
          "data": {
            "image/png": "[encoded data removed]",
            "text/plain": [
              "<Figure size 432x288 with 1 Axes>"
            ]
          },
          "metadata": {
            "tags": [],
            "needs_background": "light"
          }
        }
      ]
    },
    {
      "cell_type": "markdown",
      "metadata": {
        "id": "nYRMwjkBV9c6",
        "colab_type": "text"
      },
      "source": [
        "**Forecasting**"
      ]
    },
    {
      "cell_type": "code",
      "metadata": {
        "id": "RfBWBm-RSgvs",
        "colab_type": "code",
        "colab": {}
      },
      "source": [
        "validation_target = Y[-N//2:]\n",
        "validation_predictions = []\n",
        "\n",
        "last_x = X[-N//2] #one d array of length T\n",
        "\n",
        "while len(validation_predictions)<len(validation_target):\n",
        "  p = model.predict(last_x.reshape(1,-1))[0,0] \n",
        "  validation_predictions.append(p)\n",
        "  #make the new input\n",
        "  last_x = np.roll(last_x,-1) #so here we are shfting the training data to 1 poisition left\n",
        "  last_x[-1] = p #at the last positon we are placing the predicted value\n"
      ],
      "execution_count": null,
      "outputs": []
    },
    {
      "cell_type": "code",
      "metadata": {
        "id": "KZMvRsAtcnnS",
        "colab_type": "code",
        "colab": {
          "base_uri": "https://localhost:8080/",
          "height": 283
        },
        "outputId": "0182cd31-d102-4e96-d678-00a6bd80ffec"
      },
      "source": [
        "plt.plot(validation_predictions, label = 'forecast predictions')\n",
        "plt.plot(validation_target, label = 'forecast target')\n",
        "plt.legend()\n"
      ],
      "execution_count": null,
      "outputs": [
        {
          "output_type": "execute_result",
          "data": {
            "text/plain": [
              "<matplotlib.legend.Legend at 0x7f27c4acf400>"
            ]
          },
          "metadata": {
            "tags": []
          },
          "execution_count": 48
        },
        {
          "output_type": "display_data",
          "data": {
            "image/png": "[encoded data removed]",
            "text/plain": [
              "<Figure size 432x288 with 1 Axes>"
            ]
          },
          "metadata": {
            "tags": [],
            "needs_background": "light"
          }
        }
      ]
    },
    {
      "cell_type": "code",
      "metadata": {
        "id": "SrOdBRHidEab",
        "colab_type": "code",
        "colab": {}
      },
      "source": [
        ""
      ],
      "execution_count": null,
      "outputs": []
    }
  ]
}